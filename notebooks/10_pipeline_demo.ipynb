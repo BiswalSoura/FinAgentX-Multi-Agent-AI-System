{
 "cells": [
  {
   "cell_type": "code",
   "execution_count": 3,
   "id": "62f50fb1",
   "metadata": {},
   "outputs": [
    {
     "name": "stdout",
     "output_type": "stream",
     "text": [
      "Obtaining file:///D:/University%20of%20San%20Diego/Natural%20Language%20processing%20and%20GenAI/FinAgentX%20Multi%20Agent%20AI%20System/FinAgentX-Multi-Agent-AI-System\n",
      "Note: you may need to restart the kernel to use updated packages.\n",
      "Saved pipeline outputs to D:\\University of San Diego\\Natural Language processing and GenAI\\FinAgentX Multi Agent AI System\\FinAgentX-Multi-Agent-AI-System\\data\\sample\\out\\out_pipeline_AAPL.json\n"
     ]
    },
    {
     "name": "stderr",
     "output_type": "stream",
     "text": [
      "ERROR: file:///D:/University%20of%20San%20Diego/Natural%20Language%20processing%20and%20GenAI/FinAgentX%20Multi%20Agent%20AI%20System/FinAgentX-Multi-Agent-AI-System does not appear to be a Python project: neither 'setup.py' nor 'pyproject.toml' found.\n"
     ]
    }
   ],
   "source": [
    "# If the package is installable in editable mode, attempt to install it so imports work in the notebook.\n",
    "# (This magic must appear at the top of the cell in a Jupyter notebook.)\n",
    "%pip install -e \"D:\\University of San Diego\\Natural Language processing and GenAI\\FinAgentX Multi Agent AI System\\FinAgentX-Multi-Agent-AI-System\"\n",
    "\n",
    "import sys, os, json\n",
    "# ensure repo root is on sys.path so 'src' package can be imported\n",
    "repo_root = r\"D:\\University of San Diego\\Natural Language processing and GenAI\\FinAgentX Multi Agent AI System\\FinAgentX-Multi-Agent-AI-System\"\n",
    "if repo_root not in sys.path:\n",
    "    sys.path.insert(0, repo_root)\n",
    "\n",
    "from src.orchestrator import process_article\n",
    "\n",
    "inpath = os.path.join(repo_root, \"data\", \"sample\", \"news_AAPL.json\")\n",
    "with open(inpath, \"r\", encoding=\"utf-8\") as f:\n",
    "    articles = json.load(f)\n",
    "outs = [process_article(a) for a in articles]\n",
    "os.makedirs(os.path.join(repo_root,\"data\",\"sample\",\"out\"), exist_ok=True)\n",
    "outp = os.path.join(repo_root,\"data\",\"sample\",\"out\",\"out_pipeline_AAPL.json\")\n",
    "with open(outp,\"w\",encoding=\"utf-8\") as f:\n",
    "    json.dump(outs,f,ensure_ascii=False,indent=2)\n",
    "print(\"Saved pipeline outputs to\", outp)\n",
    "# This script processes sample news articles about AAPL and saves the outputs to a JSON file."
   ]
  },
  {
   "cell_type": "code",
   "execution_count": 2,
   "id": "ab3067f6",
   "metadata": {},
   "outputs": [
    {
     "name": "stdout",
     "output_type": "stream",
     "text": [
      "Obtaining file:///D:/University%20of%20San%20Diego/Natural%20Language%20processing%20and%20GenAI/FinAgentX%20Multi%20Agent%20AI%20System/FinAgentX-Multi-Agent-AI-System\n",
      "Note: you may need to restart the kernel to use updated packages.\n",
      "Saved routed analysis to D:\\University of San Diego\\Natural Language processing and GenAI\\FinAgentX Multi Agent AI System\\FinAgentX-Multi-Agent-AI-System\\data\\sample\\out\\analysis_routed_AAPL.json\n"
     ]
    },
    {
     "name": "stderr",
     "output_type": "stream",
     "text": [
      "ERROR: file:///D:/University%20of%20San%20Diego/Natural%20Language%20processing%20and%20GenAI/FinAgentX%20Multi%20Agent%20AI%20System/FinAgentX-Multi-Agent-AI-System does not appear to be a Python project: neither 'setup.py' nor 'pyproject.toml' found.\n"
     ]
    }
   ],
   "source": [
    "# ensure the local package is available and repo root is on sys.path\n",
    "%pip install -e \"D:\\University of San Diego\\Natural Language processing and GenAI\\FinAgentX Multi Agent AI System\\FinAgentX-Multi-Agent-AI-System\"\n",
    "\n",
    "import sys\n",
    "repo_root = r\"D:\\University of San Diego\\Natural Language processing and GenAI\\FinAgentX Multi Agent AI System\\FinAgentX-Multi-Agent-AI-System\"\n",
    "if repo_root not in sys.path:\n",
    "    sys.path.insert(0, repo_root)\n",
    "\n",
    "from src.router import route\n",
    "from agents.earnings_agent import analyze as earnings_analyze\n",
    "from agents.market_agent import analyze as market_analyze\n",
    "import json, os\n",
    "inp = os.path.join(repo_root,\"data\",\"sample\",\"out\",\"out_pipeline_AAPL.json\")\n",
    "with open(inp,\"r\",encoding=\"utf-8\") as f:\n",
    "    processed = json.load(f)\n",
    "\n",
    "routed=[]\n",
    "for p in processed:\n",
    "    r = route(p)\n",
    "    if r=='earnings':\n",
    "        s = earnings_analyze(p.get('extracted',{}), p.get('summary_long',''))\n",
    "    elif r=='market':\n",
    "        s = market_analyze(p.get('summary_long',''))\n",
    "    else:\n",
    "        s = {'note':'general news - no specialist analysis', 'conclusion':'info'}\n",
    "    p['specialist']=s\n",
    "    routed.append(p)\n",
    "\n",
    "outp = os.path.join(repo_root,\"data\",\"sample\",\"out\",\"analysis_routed_AAPL.json\")\n",
    "with open(outp,\"w\",encoding=\"utf-8\") as f:\n",
    "    json.dump(routed,f,ensure_ascii=False,indent=2)\n",
    "print(\"Saved routed analysis to\", outp)\n"
   ]
  }
 ],
 "metadata": {
  "kernelspec": {
   "display_name": "Python 3",
   "language": "python",
   "name": "python3"
  },
  "language_info": {
   "codemirror_mode": {
    "name": "ipython",
    "version": 3
   },
   "file_extension": ".py",
   "mimetype": "text/x-python",
   "name": "python",
   "nbconvert_exporter": "python",
   "pygments_lexer": "ipython3",
   "version": "3.12.4"
  }
 },
 "nbformat": 4,
 "nbformat_minor": 5
}
