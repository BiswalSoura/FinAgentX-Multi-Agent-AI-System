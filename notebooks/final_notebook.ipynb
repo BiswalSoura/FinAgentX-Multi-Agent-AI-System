{
 "cells": [
  {
   "cell_type": "markdown",
   "id": "d28a8557",
   "metadata": {},
   "source": [
    "# FinAgentX — Multi-Agent Financial Analysis System\n",
    "\n",
    "**Author:** Soura Biswal \n",
    "**Course:** Natural Language Processing & Generative AI - University of San Diego  \n",
    "**Deliverable:** Final Project — Code Notebook  \n",
    "**Date:** September 2, 2025 to October 20, 2025\n",
    "**Github repo link:** https://github.com/BiswalSoura/FinAgentX-Multi-Agent-AI-System.git\n",
    "---\n",
    "\n",
    "**Short summary:**  \n",
    "FinAgentX is a modular, multi-agent pipeline that ingests financial news and market data, classifies and extracts key facts (EPS, revenue), summarizes articles, routes them to specialist agents (earnings & macro), evaluates outputs, and refines the results. The notebook demonstrates the full system end-to-end using lightweight, free tools (Python, yfinance, and a small Kaggle-derived dataset).\n",
    "\n",
    "## Table of contents\n",
    "\n",
    "1. Project summary & objectives  \n",
    "2. Dataset description  \n",
    "3. Architecture & agent design  \n",
    "4. Environment & how to run (reproducibility)  \n",
    "5. Data fetch & samples (prices + news)  \n",
    "6. Pipeline demo — process articles end-to-end  \n",
    "7. Routing & specialist agents demonstration  \n",
    "8. Evaluator & Optimizer demonstration  \n",
    "9. Memory & learning across runs  \n",
    "10. Limitations, ethical notes & AI disclosure  \n",
    "11. How to run (quick start) & submission artifacts\n"
   ]
  },
  {
   "cell_type": "markdown",
   "id": "05495854",
   "metadata": {},
   "source": [
    "## 1. Project summary & objectives\n",
    "\n",
    "**Objective:** Build an agentic system that can research stocks and provide structured, explainable research notes by combining news and market signals.  \n",
    "**Primary learning goals:** agent orchestration, prompt-chaining workflows, routing to specialists, evaluator→optimizer loops, and simple persistent memory.\n",
    "\n",
    "**Deliverables demonstrated in this notebook:**\n",
    "- Data ingestion (prices + news)\n",
    "- Prompt chaining (preprocess → classify → extract → summarize)\n",
    "- Routing to EarningsAgent and MarketAgent\n",
    "- Evaluator + Optimizer loop\n",
    "- Memory persistence and a final human-readable research note\n"
   ]
  },
  {
   "cell_type": "markdown",
   "id": "fe350474",
   "metadata": {
    "vscode": {
     "languageId": "plaintext"
    }
   },
   "source": [
    "## 2. Dataset description\n",
    "\n",
    "**Main dataset used:** `Fin_Cleaned.csv`  \n",
    "**Source:** Kaggle – Financial News Sentiment Dataset (Lightweight Version)  \n",
    "**Size:** Approximately ~15MB  \n",
    "**Variables:**  \n",
    "- `id`: Unique identifier for news entry  \n",
    "- `title`: News headline  \n",
    "- `content`: Full news article text  \n",
    "- `sentiment`: Label such as Positive, Negative, Neutral  \n",
    "- `ticker`: Related company (e.g., AAPL, TSLA)\n",
    "\n",
    "**Sample Data Stored:**  \n",
    "- `data/sample/` → 5–10 news articles per ticker (AAPL, TSLA)  \n",
    "- `data/sample/*.csv` → price snapshots from `yfinance`  \n",
    "- `data/memory/memory.json` → stores model run history and evaluation feedback\n",
    "\n",
    "The data has been simplified for CPU usage (no large-scale model training).  \n",
    "This setup demonstrates the **architecture and reasoning pipeline** without requiring heavy GPUs.\n"
   ]
  },
  {
   "cell_type": "markdown",
   "id": "7639f419",
   "metadata": {
    "vscode": {
     "languageId": "plaintext"
    }
   },
   "source": [
    "## 3. Architecture & agent design\n",
    "\n",
    "**High-level flow:**\n",
    "\n",
    "1. **Fetcher**: Collects price data (yfinance) and sample news (local JSON from `data/sample/`).  \n",
    "2. **Preprocessor**: cleans text, normalizes dates.  \n",
    "3. **Classifier**: rule-based classifier (earnings / macro / news).  \n",
    "4. **Extractor**: regex rules to extract EPS, revenue, and presence flags.  \n",
    "5. **Summarizer**: templates that produce short and long summaries + sentiment.  \n",
    "6. **Router**: routes article to specialized agents (earnings, market).  \n",
    "7. **Specialists**: context-specific logic (e.g., earnings compare).  \n",
    "8. **Evaluator**: heuristic scoring (factuality, completeness, clarity).  \n",
    "9. **Optimizer**: one-step refinement based on feedback.  \n",
    "10. **Memory store**: JSON file storing per-run notes for learning across runs.\n",
    "\n",
    "**Design rationale:** keep agents small and testable, prefer deterministic heuristics for reproducibility for coursework.\n"
   ]
  },
  {
   "cell_type": "markdown",
   "id": "1d8f0163",
   "metadata": {},
   "source": [
    "## 4. Environment & reproduction\n",
    "\n",
    "**Python version:** 3.10+ recommended\n",
    "\n",
    "**Install dependencies (from repo root):**\n",
    "```bash\n",
    "python -m venv venv\n",
    "# Windows\n",
    "venv\\Scripts\\activate\n",
    "# macOS / Linux\n",
    "# source venv/bin/activate\n",
    "pip install -r requirements.txt\n"
   ]
  },
  {
   "cell_type": "code",
   "execution_count": 1,
   "id": "1a265f8a",
   "metadata": {},
   "outputs": [
    {
     "data": {
      "text/html": [
       "<div>\n",
       "<style scoped>\n",
       "    .dataframe tbody tr th:only-of-type {\n",
       "        vertical-align: middle;\n",
       "    }\n",
       "\n",
       "    .dataframe tbody tr th {\n",
       "        vertical-align: top;\n",
       "    }\n",
       "\n",
       "    .dataframe thead th {\n",
       "        text-align: right;\n",
       "    }\n",
       "</style>\n",
       "<table border=\"1\" class=\"dataframe\">\n",
       "  <thead>\n",
       "    <tr style=\"text-align: right;\">\n",
       "      <th></th>\n",
       "      <th>Date_published</th>\n",
       "      <th>Headline</th>\n",
       "      <th>Synopsis</th>\n",
       "      <th>Full_text</th>\n",
       "      <th>Final Status</th>\n",
       "    </tr>\n",
       "  </thead>\n",
       "  <tbody>\n",
       "    <tr>\n",
       "      <th>0</th>\n",
       "      <td>2022-06-21</td>\n",
       "      <td>Banks holding on to subsidy share, say payment...</td>\n",
       "      <td>The companies have written to the National Pay...</td>\n",
       "      <td>ReutersPayments companies and banks are at log...</td>\n",
       "      <td>Negative</td>\n",
       "    </tr>\n",
       "    <tr>\n",
       "      <th>1</th>\n",
       "      <td>2022-04-19</td>\n",
       "      <td>Digitally ready Bank of Baroda aims to click o...</td>\n",
       "      <td>At present, 50% of the bank's retail loans are...</td>\n",
       "      <td>AgenciesThe bank presently has 20 million acti...</td>\n",
       "      <td>Positive</td>\n",
       "    </tr>\n",
       "    <tr>\n",
       "      <th>2</th>\n",
       "      <td>2022-05-27</td>\n",
       "      <td>Karnataka attracted investment commitment of R...</td>\n",
       "      <td>Karnataka is at the forefront in attracting in...</td>\n",
       "      <td>PTIKarnataka Chief Minister Basavaraj Bommai.K...</td>\n",
       "      <td>Positive</td>\n",
       "    </tr>\n",
       "    <tr>\n",
       "      <th>3</th>\n",
       "      <td>2022-04-06</td>\n",
       "      <td>Splitting of provident fund accounts may be de...</td>\n",
       "      <td>The EPFO is likely to split accounts only at t...</td>\n",
       "      <td>Getty ImagesThe budget for FY22 had imposed in...</td>\n",
       "      <td>Negative</td>\n",
       "    </tr>\n",
       "    <tr>\n",
       "      <th>4</th>\n",
       "      <td>2022-06-14</td>\n",
       "      <td>Irdai weighs proposal to privatise Insurance I...</td>\n",
       "      <td>Set up in 2009 as an advisory body, IIB collec...</td>\n",
       "      <td>AgenciesThere is a view in the insurance indus...</td>\n",
       "      <td>Positive</td>\n",
       "    </tr>\n",
       "  </tbody>\n",
       "</table>\n",
       "</div>"
      ],
      "text/plain": [
       "  Date_published                                           Headline  \\\n",
       "0     2022-06-21  Banks holding on to subsidy share, say payment...   \n",
       "1     2022-04-19  Digitally ready Bank of Baroda aims to click o...   \n",
       "2     2022-05-27  Karnataka attracted investment commitment of R...   \n",
       "3     2022-04-06  Splitting of provident fund accounts may be de...   \n",
       "4     2022-06-14  Irdai weighs proposal to privatise Insurance I...   \n",
       "\n",
       "                                            Synopsis  \\\n",
       "0  The companies have written to the National Pay...   \n",
       "1  At present, 50% of the bank's retail loans are...   \n",
       "2  Karnataka is at the forefront in attracting in...   \n",
       "3  The EPFO is likely to split accounts only at t...   \n",
       "4  Set up in 2009 as an advisory body, IIB collec...   \n",
       "\n",
       "                                           Full_text Final Status  \n",
       "0  ReutersPayments companies and banks are at log...     Negative  \n",
       "1  AgenciesThe bank presently has 20 million acti...     Positive  \n",
       "2  PTIKarnataka Chief Minister Basavaraj Bommai.K...     Positive  \n",
       "3  Getty ImagesThe budget for FY22 had imposed in...     Negative  \n",
       "4  AgenciesThere is a view in the insurance indus...     Positive  "
      ]
     },
     "execution_count": 1,
     "metadata": {},
     "output_type": "execute_result"
    }
   ],
   "source": [
    "import pandas as pd\n",
    "data = pd.read_csv(\"../data/Fin_Cleaned.csv\")\n",
    "data.head(5)\n"
   ]
  },
  {
   "cell_type": "code",
   "execution_count": 3,
   "id": "8804a210",
   "metadata": {},
   "outputs": [
    {
     "data": {
      "text/html": [
       "<div>\n",
       "<style scoped>\n",
       "    .dataframe tbody tr th:only-of-type {\n",
       "        vertical-align: middle;\n",
       "    }\n",
       "\n",
       "    .dataframe tbody tr th {\n",
       "        vertical-align: top;\n",
       "    }\n",
       "\n",
       "    .dataframe thead th {\n",
       "        text-align: right;\n",
       "    }\n",
       "</style>\n",
       "<table border=\"1\" class=\"dataframe\">\n",
       "  <thead>\n",
       "    <tr style=\"text-align: right;\">\n",
       "      <th></th>\n",
       "      <th>Date</th>\n",
       "      <th>Open</th>\n",
       "      <th>High</th>\n",
       "      <th>Low</th>\n",
       "      <th>Close</th>\n",
       "      <th>Volume</th>\n",
       "      <th>Dividends</th>\n",
       "      <th>Stock Splits</th>\n",
       "    </tr>\n",
       "  </thead>\n",
       "  <tbody>\n",
       "    <tr>\n",
       "      <th>18</th>\n",
       "      <td>2025-10-09 00:00:00-04:00</td>\n",
       "      <td>257.809998</td>\n",
       "      <td>258.000000</td>\n",
       "      <td>253.139999</td>\n",
       "      <td>254.039993</td>\n",
       "      <td>38322000</td>\n",
       "      <td>0.0</td>\n",
       "      <td>0.0</td>\n",
       "    </tr>\n",
       "    <tr>\n",
       "      <th>19</th>\n",
       "      <td>2025-10-10 00:00:00-04:00</td>\n",
       "      <td>254.940002</td>\n",
       "      <td>256.380005</td>\n",
       "      <td>244.000000</td>\n",
       "      <td>245.270004</td>\n",
       "      <td>61999100</td>\n",
       "      <td>0.0</td>\n",
       "      <td>0.0</td>\n",
       "    </tr>\n",
       "    <tr>\n",
       "      <th>20</th>\n",
       "      <td>2025-10-13 00:00:00-04:00</td>\n",
       "      <td>249.380005</td>\n",
       "      <td>249.690002</td>\n",
       "      <td>245.559998</td>\n",
       "      <td>247.660004</td>\n",
       "      <td>38104400</td>\n",
       "      <td>0.0</td>\n",
       "      <td>0.0</td>\n",
       "    </tr>\n",
       "  </tbody>\n",
       "</table>\n",
       "</div>"
      ],
      "text/plain": [
       "                         Date        Open        High         Low       Close  \\\n",
       "18  2025-10-09 00:00:00-04:00  257.809998  258.000000  253.139999  254.039993   \n",
       "19  2025-10-10 00:00:00-04:00  254.940002  256.380005  244.000000  245.270004   \n",
       "20  2025-10-13 00:00:00-04:00  249.380005  249.690002  245.559998  247.660004   \n",
       "\n",
       "      Volume  Dividends  Stock Splits  \n",
       "18  38322000        0.0           0.0  \n",
       "19  61999100        0.0           0.0  \n",
       "20  38104400        0.0           0.0  "
      ]
     },
     "execution_count": 3,
     "metadata": {},
     "output_type": "execute_result"
    }
   ],
   "source": [
    "import glob\n",
    "\n",
    "# pandas (pd) is already imported in a previous cell; reuse it here.\n",
    "files = glob.glob(\"../data/sample/AAPL_prices_1mo_*.csv\")\n",
    "if not files:\n",
    "\traise FileNotFoundError(\"No files matched pattern ../data/sample/AAPL_prices_1mo_*.csv. Check the path and filename pattern.\")\n",
    "\n",
    "# read all matched CSVs and concatenate them\n",
    "df_list = [pd.read_csv(f, on_bad_lines='skip') for f in files]\n",
    "apple = pd.concat(df_list, ignore_index=True)\n",
    "\n",
    "apple.tail(3)\n"
   ]
  },
  {
   "cell_type": "code",
   "execution_count": 5,
   "id": "a9ac1530",
   "metadata": {},
   "outputs": [
    {
     "name": "stdout",
     "output_type": "stream",
     "text": [
      "Saved end-to-end results to D:\\University of San Diego\\Natural Language processing and GenAI\\FinAgentX Multi Agent AI System\\FinAgentX-Multi-Agent-AI-System\\data\\sample\\out\\analysis_end2end.json\n"
     ]
    },
    {
     "data": {
      "text/plain": [
       "(5,\n",
       " ['title',\n",
       "  'type',\n",
       "  'confidence',\n",
       "  'extracted',\n",
       "  'summary_short',\n",
       "  'summary_long',\n",
       "  'sentiment',\n",
       "  'specialist',\n",
       "  'evaluation'])"
      ]
     },
     "execution_count": 5,
     "metadata": {},
     "output_type": "execute_result"
    }
   ],
   "source": [
    "import sys\n",
    "from pathlib import Path\n",
    "import json\n",
    "\n",
    "# ensure project root (parent of the notebooks folder) is on sys.path\n",
    "proj_root = Path.cwd().parent\n",
    "if str(proj_root) not in sys.path:\n",
    "    sys.path.insert(0, str(proj_root))\n",
    "\n",
    "from src.orchestrator import run_articles\n",
    "\n",
    "with open(\"../data/sample/news_AAPL.json\", \"r\", encoding=\"utf8\") as f:\n",
    "    articles = json.load(f)\n",
    "\n",
    "results = run_articles(articles)\n",
    "# safe display: handle empty results\n",
    "(len(results), list(results[0].keys()) if results else (0, None))\n"
   ]
  },
  {
   "cell_type": "code",
   "execution_count": 6,
   "id": "78c2a962",
   "metadata": {},
   "outputs": [
    {
     "name": "stdout",
     "output_type": "stream",
     "text": [
      "{'confidence': 0.7,\n",
      " 'evaluation': {'feedback': 'OK', 'score': 1.0},\n",
      " 'extracted': {'mentions_beat': False, 'mentions_miss': False},\n",
      " 'sentiment': 'neutral',\n",
      " 'specialist': {'conclusion': 'info', 'note': 'general news'},\n",
      " 'summary_long': 'eMudhra: Should you exit stock after decent listing or hold '\n",
      "                 'for long term? — Key figures not found. Sentiment: neutral. '\n",
      "                 'Full analysis: Getty ImagesAgainst the issue price of Rs '\n",
      "                 '256, shares of eMudhra listed at a premium of 6 per cent at '\n",
      "                 'Rs 271 on BSE and a premium of 5 per cent at Rs 270 on the '\n",
      "                 'National Stock Exchange (NSE).RelatedStocks in the news: '\n",
      "                 'eMudhra, Bharat Dynamics, HFCL, GOCL Corp and BataD-Street '\n",
      "                 'debut: eMudhra lists at 6% premium on BSEeMudhra to have a '\n",
      "                 \"soft debut on Dalal Street? Here's what grey market is \"\n",
      "                 'signalingContrary to market expectations, eMudhra debuted on '\n",
      "                 \"a positive note in Wednesday's trade. That said, the gains \"\n",
      "                 'were capped in the counter.\\n'\n",
      "                 '\\n'\n",
      "                 'Against the issue price of Rs 256, shares of eMudhra listed '\n",
      "                 'at a premium of 6 per cent at Rs 271 on BSE and a premium of '\n",
      "                 '5 per cent at Rs 270 on the National Stock Exchange (NSE).\\n'\n",
      "                 '\\n'\n",
      "                 'Post the listing, eMudhra extended its total gains to per '\n",
      "                 'cent over the issue p...',\n",
      " 'summary_short': 'eMudhra: Should you exit stock after decent listing or hold '\n",
      "                  'for long term? — Key figures not found. Sentiment: neutral.',\n",
      " 'title': 'eMudhra: Should you exit stock after decent listing or hold for '\n",
      "          'long term?',\n",
      " 'type': 'news'}\n"
     ]
    }
   ],
   "source": [
    "import pprint\n",
    "pprint.pprint(results[0])\n"
   ]
  },
  {
   "cell_type": "code",
   "execution_count": 7,
   "id": "18e64ae2",
   "metadata": {},
   "outputs": [
    {
     "name": "stdout",
     "output_type": "stream",
     "text": [
      "Before refinement: {'score': 1.0, 'feedback': 'OK'}\n"
     ]
    }
   ],
   "source": [
    "sample_eval = results[0]['evaluation']\n",
    "print(\"Before refinement:\", sample_eval)\n",
    "\n",
    "if 'post_refine' in sample_eval:\n",
    "    print(\"After refinement:\", sample_eval['post_refine'])\n"
   ]
  },
  {
   "cell_type": "code",
   "execution_count": 8,
   "id": "d0175f72",
   "metadata": {},
   "outputs": [
    {
     "name": "stdout",
     "output_type": "stream",
     "text": [
      "Previous run memory:\n",
      "[\n",
      "  {\n",
      "    \"title\": \"eMudhra: Should you exit stock after decent listing or hold for long term?\",\n",
      "    \"type\": \"news\",\n",
      "    \"confidence\": 0.7,\n",
      "    \"extracted\": {\n",
      "      \"mentions_beat\": false,\n",
      "      \"mentions_miss\": false\n",
      "    },\n",
      "    \"summary_short\": \"eMudhra: Should you exit stock after decent listing or hold for long term? \\u2014 Key figures not found. Sentiment: neutral.\",\n",
      "    \"summary_long\": \"eMudhra: Should you exit stock after decent listing or hold for long term? \\u2014 Key figures not found. Sentiment: neutral. Full analysis: Getty ImagesAgainst the issue price of Rs 256, shares of eMudhra listed at a premium of 6 per cent at Rs 271 on BSE and a premium of 5 per cent at Rs 270 on the National Stock Exchange (NSE).RelatedStocks in the news: eMudhra, Bharat Dynamics, HFCL, GOCL Corp and BataD-Street debut: eMudhra lists at 6% premium on BSEeMudhra to have a soft debut on Dalal Street? Here's what grey market is signalingContrary to market expectations, eMudhra debuted on a positive note in Wednesday's trade. That said, the gains were capped in the counter.\\n\\nAgainst the issue price of Rs 256, shares of eMudhra listed at a premium of 6 per cent at Rs 271 on BSE and a premium of 5 per cent at Rs 270 on the National Stock Exchange (NSE).\\n\\nPost the listing, eMudhra extended its total gains to per cent over the issue p...\",\n",
      "    \"sentiment\": \"neutral\",\n",
      "    \"specialist\": {\n",
      "      \"note\": \"general news\",\n",
      "      \"conclusion\": \"info\"\n",
      "    },\n",
      "    \"evaluation\": {\n",
      "      \"score\": 1.0,\n",
      "      \"feedback\": \"OK\"\n",
      "    }\n",
      "  }\n",
      "]\n"
     ]
    }
   ],
   "source": [
    "import json\n",
    "with open(\"../data/memory/memory.json\",\"r\",encoding=\"utf8\") as f:\n",
    "    mem = json.load(f)\n",
    "print(\"Previous run memory:\")\n",
    "print(json.dumps(mem['runs'][:1], indent=2))\n"
   ]
  },
  {
   "cell_type": "markdown",
   "id": "a17122db",
   "metadata": {},
   "source": [
    "# Discussion & Limitations\n",
    "\n",
    "This system demonstrates:\n",
    "- Agent-based modular reasoning flow\n",
    "- Extraction and sentiment logic for financial articles\n",
    "- Iterative evaluation and feedback loop (Memory)\n",
    "- Explainable decision structure using simple heuristics\n",
    "\n",
    "**Limitations:**\n",
    "- No real-time trading or advice generation\n",
    "- Sentiment and extraction are rule-based (no deep LLM)\n",
    "- Context awareness limited to single-article scope\n",
    "- Future improvement: integrate OpenAI GPT or local LLM for summarization and reasoning\n",
    "\n",
    "**Future Work:**\n",
    "- Integrate LangChain agents for advanced NLP\n",
    "- Add Streamlit dashboard for visualization\n",
    "- Connect to live stock data with auto-refresh for real-time insights\n"
   ]
  },
  {
   "cell_type": "markdown",
   "id": "22c6bf9e",
   "metadata": {},
   "source": [
    "# AI and Data Disclosure\n",
    "\n",
    "- Tools used: `pandas`, `yfinance`, `beautifulsoup4`\n",
    "- Dataset: Financial News Dataset (Kaggle)\n",
    "- No live financial predictions made\n",
    "- No LLMs used in automated decision-making (all heuristic)\n",
    "\n"
   ]
  },
  {
   "cell_type": "markdown",
   "id": "aaa2c826",
   "metadata": {},
   "source": [
    "## 11. How to run & deliverables\n",
    "\n",
    "**To reproduce:**\n",
    "1. Create venv and install requirements (see earlier)\n",
    "2. Ensure `data/Fin_Cleaned.csv` exists and `data/sample/` contains price CSVs and news JSON files\n",
    "3. Open `notebooks/final_notebook.ipynb` and run cells top-to-bottom\n",
    "\n",
    "**Deliverables in repo:**\n",
    "- `notebooks/final_notebook.ipynb`\n",
    "- `notebooks/final_notebook.html` (export)\n",
    "- `data/sample/out/analysis_end2end.json`\n",
    "- `data/memory/memory.json`\n",
    "- `documentation/quick_start.md`\n",
    "- `README.md`\n"
   ]
  }
 ],
 "metadata": {
  "kernelspec": {
   "display_name": "Python 3",
   "language": "python",
   "name": "python3"
  },
  "language_info": {
   "codemirror_mode": {
    "name": "ipython",
    "version": 3
   },
   "file_extension": ".py",
   "mimetype": "text/x-python",
   "name": "python",
   "nbconvert_exporter": "python",
   "pygments_lexer": "ipython3",
   "version": "3.12.4"
  }
 },
 "nbformat": 4,
 "nbformat_minor": 5
}
